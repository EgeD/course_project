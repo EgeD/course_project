{
 "cells": [
  {
   "cell_type": "code",
   "execution_count": 4,
   "id": "ea56aed5",
   "metadata": {},
   "outputs": [],
   "source": [
    "from losses import GANLoss, PatchNCELoss\n",
    "import torch\n",
    "import torch.nn as nn"
   ]
  },
  {
   "cell_type": "code",
   "execution_count": 2,
   "id": "f0f74d38",
   "metadata": {},
   "outputs": [],
   "source": [
    "nce_layers=[0,4,8,12,16]\n",
    "criterionNCE = []\n",
    "for _ in nce_layers:\n",
    "        criterionNCE.append(PatchNCELoss(1))"
   ]
  },
  {
   "cell_type": "code",
   "execution_count": 6,
   "id": "b92e8818",
   "metadata": {},
   "outputs": [],
   "source": [
    "model = [nn.ReflectionPad2d(3),\n",
    "                 nn.Conv2d(3, 64, kernel_size=7, padding=0, bias=True),\n",
    "                 nn.InstanceNorm2d(64),\n",
    "                 nn.ReLU(True)]"
   ]
  },
  {
   "cell_type": "code",
   "execution_count": 7,
   "id": "c9460f0b",
   "metadata": {
    "scrolled": true
   },
   "outputs": [
    {
     "data": {
      "text/plain": [
       "[ReflectionPad2d((3, 3, 3, 3)),\n",
       " Conv2d(3, 64, kernel_size=(7, 7), stride=(1, 1)),\n",
       " InstanceNorm2d(64, eps=1e-05, momentum=0.1, affine=False, track_running_stats=False),\n",
       " ReLU(inplace=True)]"
      ]
     },
     "execution_count": 7,
     "metadata": {},
     "output_type": "execute_result"
    }
   ],
   "source": [
    "model"
   ]
  },
  {
   "cell_type": "code",
   "execution_count": null,
   "id": "6b3f4f51",
   "metadata": {},
   "outputs": [],
   "source": []
  },
  {
   "cell_type": "code",
   "execution_count": 13,
   "id": "2a1fd4c5",
   "metadata": {},
   "outputs": [],
   "source": [
    "model += [nn.Conv2d(64,128, kernel_size=3, stride=2, padding=1, bias=True),\n",
    "                          nn.InstanceNorm2d(128),\n",
    "                          nn.ReLU(True)]\n"
   ]
  },
  {
   "cell_type": "code",
   "execution_count": 14,
   "id": "478cfbb3",
   "metadata": {},
   "outputs": [
    {
     "data": {
      "text/plain": [
       "[ReflectionPad2d((3, 3, 3, 3)),\n",
       " Conv2d(3, 64, kernel_size=(7, 7), stride=(1, 1)),\n",
       " InstanceNorm2d(64, eps=1e-05, momentum=0.1, affine=False, track_running_stats=False),\n",
       " ReLU(inplace=True),\n",
       " Conv2d(64, 128, kernel_size=(3, 3), stride=(2, 2), padding=(1, 1)),\n",
       " InstanceNorm2d(128, eps=1e-05, momentum=0.1, affine=False, track_running_stats=False),\n",
       " ReLU(inplace=True),\n",
       " Conv2d(64, 128, kernel_size=(3, 3), stride=(2, 2), padding=(1, 1)),\n",
       " InstanceNorm2d(128, eps=1e-05, momentum=0.1, affine=False, track_running_stats=False),\n",
       " ReLU(inplace=True)]"
      ]
     },
     "execution_count": 14,
     "metadata": {},
     "output_type": "execute_result"
    }
   ],
   "source": [
    "model"
   ]
  },
  {
   "cell_type": "code",
   "execution_count": 15,
   "id": "6b49c1c4",
   "metadata": {},
   "outputs": [],
   "source": [
    "model += criterionNCE"
   ]
  },
  {
   "cell_type": "code",
   "execution_count": 18,
   "id": "5985982d",
   "metadata": {},
   "outputs": [
    {
     "data": {
      "text/plain": [
       "[ReflectionPad2d((3, 3, 3, 3)),\n",
       " Conv2d(3, 64, kernel_size=(7, 7), stride=(1, 1)),\n",
       " InstanceNorm2d(64, eps=1e-05, momentum=0.1, affine=False, track_running_stats=False),\n",
       " ReLU(inplace=True),\n",
       " Conv2d(64, 128, kernel_size=(3, 3), stride=(2, 2), padding=(1, 1)),\n",
       " InstanceNorm2d(128, eps=1e-05, momentum=0.1, affine=False, track_running_stats=False),\n",
       " ReLU(inplace=True),\n",
       " Conv2d(64, 128, kernel_size=(3, 3), stride=(2, 2), padding=(1, 1)),\n",
       " InstanceNorm2d(128, eps=1e-05, momentum=0.1, affine=False, track_running_stats=False),\n",
       " ReLU(inplace=True),\n",
       " PatchNCELoss(\n",
       "   (cross_entropy): CrossEntropyLoss()\n",
       " ),\n",
       " PatchNCELoss(\n",
       "   (cross_entropy): CrossEntropyLoss()\n",
       " ),\n",
       " PatchNCELoss(\n",
       "   (cross_entropy): CrossEntropyLoss()\n",
       " ),\n",
       " PatchNCELoss(\n",
       "   (cross_entropy): CrossEntropyLoss()\n",
       " ),\n",
       " PatchNCELoss(\n",
       "   (cross_entropy): CrossEntropyLoss()\n",
       " )]"
      ]
     },
     "execution_count": 18,
     "metadata": {},
     "output_type": "execute_result"
    }
   ],
   "source": [
    "model"
   ]
  },
  {
   "cell_type": "code",
   "execution_count": 12,
   "id": "df26647c",
   "metadata": {},
   "outputs": [
    {
     "name": "stdout",
     "output_type": "stream",
     "text": [
      "0\n",
      "ReflectionPad2d((3, 3, 3, 3))\n",
      "1\n",
      "Conv2d(3, 64, kernel_size=(7, 7), stride=(1, 1))\n",
      "2\n",
      "InstanceNorm2d(64, eps=1e-05, momentum=0.1, affine=False, track_running_stats=False)\n",
      "3\n",
      "ReLU(inplace=True)\n",
      "4\n",
      "Conv2d(64, 128, kernel_size=(3, 3), stride=(2, 2), padding=(1, 1))\n",
      "5\n",
      "InstanceNorm2d(128, eps=1e-05, momentum=0.1, affine=False, track_running_stats=False)\n",
      "6\n",
      "ReLU(inplace=True)\n"
     ]
    }
   ],
   "source": [
    "for layer_id, layer in enumerate(model):\n",
    "    print(layer_id)\n",
    "    print(layer)"
   ]
  },
  {
   "cell_type": "code",
   "execution_count": 3,
   "id": "177efa9a",
   "metadata": {
    "scrolled": true
   },
   "outputs": [
    {
     "data": {
      "text/plain": [
       "[PatchNCELoss(\n",
       "   (cross_entropy): CrossEntropyLoss()\n",
       " ),\n",
       " PatchNCELoss(\n",
       "   (cross_entropy): CrossEntropyLoss()\n",
       " ),\n",
       " PatchNCELoss(\n",
       "   (cross_entropy): CrossEntropyLoss()\n",
       " ),\n",
       " PatchNCELoss(\n",
       "   (cross_entropy): CrossEntropyLoss()\n",
       " ),\n",
       " PatchNCELoss(\n",
       "   (cross_entropy): CrossEntropyLoss()\n",
       " )]"
      ]
     },
     "execution_count": 3,
     "metadata": {},
     "output_type": "execute_result"
    }
   ],
   "source": [
    "criterionNCE"
   ]
  }
 ],
 "metadata": {
  "kernelspec": {
   "display_name": "Python 3 (ipykernel)",
   "language": "python",
   "name": "python3"
  },
  "language_info": {
   "codemirror_mode": {
    "name": "ipython",
    "version": 3
   },
   "file_extension": ".py",
   "mimetype": "text/x-python",
   "name": "python",
   "nbconvert_exporter": "python",
   "pygments_lexer": "ipython3",
   "version": "3.8.12"
  }
 },
 "nbformat": 4,
 "nbformat_minor": 5
}
