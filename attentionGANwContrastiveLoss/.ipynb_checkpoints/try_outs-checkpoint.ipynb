{
 "cells": [
  {
   "cell_type": "code",
   "execution_count": null,
   "id": "f0f74d38",
   "metadata": {},
   "outputs": [],
   "source": [
    "\n",
    "nce_layers=[0,4,8,12,16]\n",
    "criterionNCE = []\n",
    "for _ in nce_layers:\n",
    "            criterionNCE.append(PatchNCELoss(self.batch_size).to(self.device))"
   ]
  }
 ],
 "metadata": {
  "kernelspec": {
   "display_name": "Python 3 (ipykernel)",
   "language": "python",
   "name": "python3"
  },
  "language_info": {
   "codemirror_mode": {
    "name": "ipython",
    "version": 3
   },
   "file_extension": ".py",
   "mimetype": "text/x-python",
   "name": "python",
   "nbconvert_exporter": "python",
   "pygments_lexer": "ipython3",
   "version": "3.8.12"
  }
 },
 "nbformat": 4,
 "nbformat_minor": 5
}
